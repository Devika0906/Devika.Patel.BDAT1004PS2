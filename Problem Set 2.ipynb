{
 "cells": [
  {
   "cell_type": "markdown",
   "id": "d8011b32",
   "metadata": {},
   "source": [
    "Question 1\n",
    "Consider the following Python module:\n",
    "a = 0\n",
    "def b():\n",
    " global a\n",
    " a = c(a)\n",
    "def c(a):\n",
    " return a + 2\n",
    "After importing the module into the interpreter, Explain each line of statemetand you execute:\n",
    ">>> b()\n",
    ">>> b()\n",
    ">>> b()\n",
    ">>> a"
   ]
  },
  {
   "cell_type": "code",
   "execution_count": 2,
   "id": "426c434c",
   "metadata": {},
   "outputs": [
    {
     "data": {
      "text/plain": [
       "6"
      ]
     },
     "execution_count": 2,
     "metadata": {},
     "output_type": "execute_result"
    }
   ],
   "source": [
    "from Global import*\n",
    "b()\n",
    "b()\n",
    "b()\n",
    "a\n",
    "# In this there are two two function b() and c(a)\n",
    "# First the b() function is called then it goes to global a. Then it calls funtion c(a) which has one arugment.\n",
    "# Then it goes in funtion c(a) and a is added with 2 and it returns 2 and this loop  runs three time as function b() \n",
    "#is called three time and then a is called which returns 6 because when first time a returns 2 the second time that 2 gets \n",
    "#added to 2 and returns 4 and so on."
   ]
  },
  {
   "cell_type": "markdown",
   "id": "d4e251f3",
   "metadata": {},
   "source": [
    "Question 2\n",
    "Using funtion fileLength find the length of the file and excute a friendly message when \"idterm.py\" file is not found.\n",
    ">>> fileLength('midterm.py')\n",
    "358\n",
    ">>> fileLength('idterm.py')\n",
    "File idterm.py not found."
   ]
  },
  {
   "cell_type": "code",
   "execution_count": 22,
   "id": "48dc3578",
   "metadata": {},
   "outputs": [
    {
     "name": "stdout",
     "output_type": "stream",
     "text": [
      "102\n",
      "File idterm.py not found.\n"
     ]
    }
   ],
   "source": [
    "def fileLength(filelength):\n",
    "    try:\n",
    "        file = open(filelength, 'r')\n",
    "        files = file.readline()\n",
    "        file.close()\n",
    "        return len(files)\n",
    "    except FileNotFoundError:\n",
    "        print('File',filelength,'not found.')\n",
    "print(fileLength('midterm.py'))\n",
    "fileLength('idterm.py')\n"
   ]
  },
  {
   "cell_type": "markdown",
   "id": "a8c2a29e",
   "metadata": {},
   "source": [
    "Question 3\n",
    "Write a class named Marsupial and another class named Kangaroo as a subclass of Marsupial that inherits all the attributes of Marsupial and also:\n",
    "a. extends the Marsupial __init__ constructor to take, as input, the \n",
    "coordinates x and y of the Kangaroo object,\n",
    "b. supports method jump that takes number values dx and dy as input and \n",
    "moves the kangaroo by dx units along the x-axis and by dy units along the y\u0002axis, and\n",
    "c. overloads the __str__ operator so it behaves"
   ]
  },
  {
   "cell_type": "code",
   "execution_count": 22,
   "id": "40b55937",
   "metadata": {},
   "outputs": [
    {
     "name": "stdout",
     "output_type": "stream",
     "text": [
      "['doll', 'firetruck', 'kitten']\n",
      "I am a Kangaroo located at coordinates(0,0)\n",
      "['doll', 'firetruck', 'kitten']\n",
      "I am a Kangaroo located at coordinates(3,0)\n"
     ]
    }
   ],
   "source": [
    "class Marsupial:\n",
    "    def __init__(self):\n",
    "        self.set = []\n",
    "    def put_in_pouch(self,animal):\n",
    "        self.set.append(animal)\n",
    "    def pouch_contents(self):\n",
    "        print(self.set)\n",
    "m = Marsupial()\n",
    "m.put_in_pouch('doll')\n",
    "m.put_in_pouch('firetruck')\n",
    "m.put_in_pouch('kitten')\n",
    "m.pouch_contents()\n",
    "\n",
    "class Kangaroo(Marsupial):\n",
    "    def __init__(self,xcordinate,ycordinate):\n",
    "        Marsupial.__init__(self)\n",
    "        self.x = xcordinate\n",
    "        self.y = ycordinate\n",
    "    def jump(self,dx,dy):\n",
    "        self.x+=dx\n",
    "        self.y+=dy\n",
    "    def __str__(self):\n",
    "        return 'I am a Kangaroo located at coordinates({},{})'.format(self.x,self.y)\n",
    "k = Kangaroo(0,0)\n",
    "print(k)\n",
    "k.put_in_pouch('doll')\n",
    "k.put_in_pouch('firetruck')\n",
    "k.put_in_pouch('kitten')\n",
    "k.pouch_contents()\n",
    "k.jump(1,0)\n",
    "k.jump(1,0)\n",
    "k.jump(1,0)\n",
    "print(k)\n"
   ]
  },
  {
   "cell_type": "markdown",
   "id": "dd2c9171",
   "metadata": {},
   "source": [
    "Question 4\n",
    "Write function collatz() that takes a positive integer x as input and prints the Collatz sequence starting at x. A Collatz sequence is obtained by repeatedly applying this rule to the previous number x in the sequence:\n",
    "x = 𝑥/2 𝑖𝑓 𝑥 𝑖𝑠 𝑒𝑣𝑒𝑛\n",
    "    3𝑥 + 1 𝑖𝑓 𝑥 𝑖𝑠 𝑜𝑑𝑑\n",
    "Your function should stop when the sequence gets to number 1. Your implementation must be recursive, without any loops"
   ]
  },
  {
   "cell_type": "code",
   "execution_count": 7,
   "id": "7ec6fb1b",
   "metadata": {},
   "outputs": [],
   "source": [
    "def collatz(x):\n",
    "    if (x == 1):\n",
    "        print(1)\n",
    "        return\n",
    "    print(int(x))\n",
    "    \n",
    "    if (x % 2 != 0):       #odd\n",
    "        #print(x)\n",
    "        x = x*3 + 1\n",
    "        #collatz(x)\n",
    "    else:                  #even\n",
    "        x = x/2\n",
    "        #collatz(x)\n",
    "    return(collatz(int(x)))\n",
    "#collatz(1)\n",
    "#print('\\n')\n",
    "#collatz(10)\n"
   ]
  },
  {
   "cell_type": "code",
   "execution_count": 3,
   "id": "907dd2e4",
   "metadata": {},
   "outputs": [
    {
     "name": "stdout",
     "output_type": "stream",
     "text": [
      "1\n"
     ]
    }
   ],
   "source": [
    "collatz(1) #positive integer"
   ]
  },
  {
   "cell_type": "code",
   "execution_count": 8,
   "id": "dbf6419c",
   "metadata": {},
   "outputs": [
    {
     "name": "stdout",
     "output_type": "stream",
     "text": [
      "10\n",
      "5\n",
      "16\n",
      "8\n",
      "4\n",
      "2\n",
      "1\n"
     ]
    }
   ],
   "source": [
    "collatz (10) #positive integer"
   ]
  },
  {
   "cell_type": "markdown",
   "id": "ee289583",
   "metadata": {},
   "source": [
    "Question 5\n",
    "Write a recursive method binary() that takes a non-negative integer n and prints the binary representation of integer n.\n",
    ">>> binary(0)\n",
    "0\n",
    ">>> binary(1)\n",
    "1\n",
    ">>> binary(3)\n",
    "11\n",
    ">>> binary(9)\n",
    "1001"
   ]
  },
  {
   "cell_type": "code",
   "execution_count": 23,
   "id": "4958007e",
   "metadata": {},
   "outputs": [],
   "source": [
    "def binary(num):\n",
    "    if(num < 0):\n",
    "        raise ValueError\n",
    "    elif num > 1:\n",
    "        binary(num//2)\n",
    "    print (num % 2, end = '')\n",
    "    "
   ]
  },
  {
   "cell_type": "code",
   "execution_count": 17,
   "id": "5e1cdbb1",
   "metadata": {},
   "outputs": [
    {
     "name": "stdout",
     "output_type": "stream",
     "text": [
      "0"
     ]
    }
   ],
   "source": [
    "binary(0) "
   ]
  },
  {
   "cell_type": "code",
   "execution_count": 24,
   "id": "8e4b2028",
   "metadata": {},
   "outputs": [
    {
     "name": "stdout",
     "output_type": "stream",
     "text": [
      "1"
     ]
    }
   ],
   "source": [
    "binary(1) "
   ]
  },
  {
   "cell_type": "code",
   "execution_count": 25,
   "id": "1322f065",
   "metadata": {},
   "outputs": [
    {
     "name": "stdout",
     "output_type": "stream",
     "text": [
      "11"
     ]
    }
   ],
   "source": [
    "binary(3) "
   ]
  },
  {
   "cell_type": "code",
   "execution_count": 26,
   "id": "19811fa9",
   "metadata": {},
   "outputs": [
    {
     "name": "stdout",
     "output_type": "stream",
     "text": [
      "1001"
     ]
    }
   ],
   "source": [
    "binary(9) "
   ]
  },
  {
   "cell_type": "markdown",
   "id": "fe491a2b",
   "metadata": {},
   "source": [
    "Question 6\n",
    "Implement a class named HeadingParser that can be used to parse an HTML document, and retrieve and print all the headings in the document. You should implement your class as a subclass of HTMLParser, defined in Standard Library module html.parser. When fed a string containing HTML code, your class should print the headings, one per line and in the order in which they appear in the \n",
    "document. Each heading should be indented as follows: an h1 heading should have indentation 0, and h2 heading should have indentation 1, etc. Test your implementation using w3c.html.\n",
    ">>> infile = open('w3c.html')\n",
    ">>> content = infile.read()\n",
    ">>> infile.close()\n",
    ">>> hp = HeadingParser()\n",
    ">>> hp.feed(content)\n",
    "W3C Mission\n",
    "Principles"
   ]
  },
  {
   "cell_type": "code",
   "execution_count": 51,
   "id": "0ed1eabc",
   "metadata": {},
   "outputs": [
    {
     "name": "stdout",
     "output_type": "stream",
     "text": [
      " W3C Mission\n",
      " \n",
      "\t\n",
      "  Principles\n",
      "  \n",
      " \n",
      "\n",
      "\n",
      "\n"
     ]
    }
   ],
   "source": [
    "from html.parser import HTMLParser\n",
    "\n",
    "class HeadingParser(HTMLParser):\n",
    "    def __init__(self):\n",
    "        HTMLParser.__init__(self)\n",
    "        self.flag = 0\n",
    "    def handle_starttag(self, tag, attributes):\n",
    "        if tag == 'h1' or tag == 'h2' or tag == 'h3' or tag == 'h4' or tag == 'h5' or tag == 'h6' or tag == 'h7':\n",
    "            self.flag += 1\n",
    "        else: \n",
    "            self.flag = 0\n",
    "    def handle_data(self, data):\n",
    "        if self.flag and data!='\\n':\n",
    "            print('{}{}'.format(self.flag * ' ', data))\n",
    "            \n",
    "infile = open('w3c.html')\n",
    "given = infile.read()\n",
    "infile.close()\n",
    "hp = HeadingParser()\n",
    "hp.feed(given)\n"
   ]
  },
  {
   "cell_type": "markdown",
   "id": "d359acb6",
   "metadata": {},
   "source": [
    "Question 8\n",
    "Write SQL queries on the below database table that return: \n",
    "a) All the temperature data.\n",
    "b) All the cities, but without repetition.\n",
    "c) All the records for India.\n",
    "d) All the Fall records.\n",
    "e) The city, country, and season for which the average rainfall is between 200 and 400 millimeters.\n",
    "f) The city and country for which the average Fall temperature is above 20 degrees, in increasing temperature order.\n",
    "g) The total annual rainfall for Cairo.\n",
    "h) The total rainfall for each season."
   ]
  },
  {
   "cell_type": "code",
   "execution_count": 92,
   "id": "bff6f3e7",
   "metadata": {},
   "outputs": [
    {
     "data": {
      "text/plain": [
       "<sqlite3.Cursor at 0x1a26ba08490>"
      ]
     },
     "execution_count": 92,
     "metadata": {},
     "output_type": "execute_result"
    }
   ],
   "source": [
    "import sqlite3\n",
    "connection = sqlite3.connect('Data.db')\n",
    "cur = connection.cursor()\n",
    "cur.execute(\"CREATE TABLE sample (City text, Country text, Season text, Temperature double, Rainfall double)\")\n",
    "cur.execute(\"INSERT INTO sample VALUES ('Mumbai','India','Winter','24.8','5.9')\")  "
   ]
  },
  {
   "cell_type": "code",
   "execution_count": 93,
   "id": "82bede7e",
   "metadata": {},
   "outputs": [],
   "source": [
    "City, Country, Season, Temperature, Rainfall = 'Mumbai', 'India', 'Spring', '28.4', '16.2' "
   ]
  },
  {
   "cell_type": "code",
   "execution_count": 95,
   "id": "59c56bee",
   "metadata": {},
   "outputs": [
    {
     "data": {
      "text/plain": [
       "<sqlite3.Cursor at 0x1a26ba08490>"
      ]
     },
     "execution_count": 95,
     "metadata": {},
     "output_type": "execute_result"
    }
   ],
   "source": [
    "cur.execute(\"INSERT INTO sample VALUES (?, ?, ?, ?, ?)\", (City, Country, Season, Temperature, Rainfall)) "
   ]
  },
  {
   "cell_type": "code",
   "execution_count": 97,
   "id": "69600274",
   "metadata": {},
   "outputs": [
    {
     "data": {
      "text/plain": [
       "<sqlite3.Cursor at 0x1a26ba08490>"
      ]
     },
     "execution_count": 97,
     "metadata": {},
     "output_type": "execute_result"
    }
   ],
   "source": [
    "enter = ('Mumbai','India', 'Summer', '27.9', '1549.4')\n",
    "enter = ('Mumbai', 'India', 'Fall', '27.6', '346.0')\n",
    "cur.execute(\"INSERT INTO sample VALUES (?,?,?,?,?)\", enter) "
   ]
  },
  {
   "cell_type": "code",
   "execution_count": 98,
   "id": "ff012023",
   "metadata": {},
   "outputs": [
    {
     "data": {
      "text/plain": [
       "<sqlite3.Cursor at 0x1a26ba08490>"
      ]
     },
     "execution_count": 98,
     "metadata": {},
     "output_type": "execute_result"
    }
   ],
   "source": [
    "enter = ('Londan', 'United Kingdom', 'Winter', '4.2', '207.7')\n",
    "enter = ('Londan', 'United Kingdom', 'Spring', '8.3', '169.6')\n",
    "enter = ('Londan', 'United Kingdom', 'Summer', '15.7', '157.0')\n",
    "enter = ('Londan', 'United Kingdom', 'Fall', '10.4', '218.5')\n",
    "cur.execute(\"INSERT INTO sample VALUES (?,?,?,?,?)\", enter) "
   ]
  },
  {
   "cell_type": "code",
   "execution_count": 99,
   "id": "fb1e6073",
   "metadata": {},
   "outputs": [
    {
     "data": {
      "text/plain": [
       "<sqlite3.Cursor at 0x1a26ba08490>"
      ]
     },
     "execution_count": 99,
     "metadata": {},
     "output_type": "execute_result"
    }
   ],
   "source": [
    "enteries = ('Cario', 'Egypt', 'Winter', '13.6', '16.5')\n",
    "enteries = ('Cario', 'Egypt', 'Spring', '20.7', '6.5')\n",
    "enteries = ('Cario', 'Egypt', 'Summer', '27.7', '0.1')\n",
    "enteries = ('Cario', 'Egypt', 'Fall', '22.2', '4.5') \n",
    "cur.execute(\"INSERT INTO sample VALUES (?,?,?,?,?)\", enter)  "
   ]
  },
  {
   "cell_type": "code",
   "execution_count": 100,
   "id": "8f6ceb2a",
   "metadata": {},
   "outputs": [],
   "source": [
    "connection.commit()\n",
    "connection.close()\n"
   ]
  },
  {
   "cell_type": "code",
   "execution_count": 108,
   "id": "525ebd3a",
   "metadata": {},
   "outputs": [
    {
     "name": "stdout",
     "output_type": "stream",
     "text": [
      "(24.8,)\n",
      "(28.4,)\n",
      "(27.6,)\n",
      "(10.4,)\n",
      "(10.4,)\n"
     ]
    },
    {
     "data": {
      "text/plain": [
       "[]"
      ]
     },
     "execution_count": 108,
     "metadata": {},
     "output_type": "execute_result"
    }
   ],
   "source": [
    "connection = sqlite3.connect('data.db')\n",
    "cur = connection.cursor()\n",
    " # a. \n",
    "cur.execute('SELECT Temperature FROM sample')\n",
    "for enter in cur:\n",
    "    print(enter) \n",
    "cur.fetchall() "
   ]
  },
  {
   "cell_type": "code",
   "execution_count": 109,
   "id": "2a425ca4",
   "metadata": {},
   "outputs": [
    {
     "data": {
      "text/plain": [
       "[('Mumbai', 'India', 'Winter', 24.8, 5.9),\n",
       " ('Mumbai', 'India', 'Spring', 28.4, 16.2),\n",
       " ('Mumbai', 'India', 'Fall', 27.6, 346.0)]"
      ]
     },
     "execution_count": 109,
     "metadata": {},
     "output_type": "execute_result"
    }
   ],
   "source": [
    "# b.\n",
    "cur.execute('SELECT * FROM sample where Country = \"India\"')\n",
    "cur.fetchall() "
   ]
  },
  {
   "cell_type": "code",
   "execution_count": 111,
   "id": "91683aa1",
   "metadata": {},
   "outputs": [
    {
     "data": {
      "text/plain": [
       "[('Mumbai', 'India', 'Fall', 27.6, 346.0),\n",
       " ('Londan', 'United Kingdom', 'Fall', 10.4, 218.5),\n",
       " ('Londan', 'United Kingdom', 'Fall', 10.4, 218.5)]"
      ]
     },
     "execution_count": 111,
     "metadata": {},
     "output_type": "execute_result"
    }
   ],
   "source": [
    "# c.\n",
    "cur.execute('SELECT * FROM sample where Season = \"Fall\"')\n",
    "cur.fetchall() "
   ]
  },
  {
   "cell_type": "markdown",
   "id": "5d35490f",
   "metadata": {},
   "source": [
    "Question 9\n",
    "Suppose list words is defined as follows:\n",
    "words = ['The', 'quick', 'brown', 'fox', 'jumps', 'over', 'the', 'lazy', 'dog']\n",
    "Write list comprehension expressions that use list words and generate the following \n",
    "lists:\n",
    "a) ['THE', 'QUICK', 'BROWN', 'FOX', 'JUMPS', 'OVER', 'THE','LAZY', 'DOG']\n",
    "b) ['the', 'quick', 'brown', 'fox', 'jumps', 'over', 'the', 'lazy', 'dog']\n",
    "c) [3, 5, 5, 3, 5, 4, 3, 4, 3] (the list of lengths of words in list words).\n",
    "d) [['THE', 'the', 3], ['QUICK', 'quick', 5], ['BROWN', 'brown', 5], ['FOX', 'fox', 3], ['JUMPS', 'jumps', 5],['OVER','over',4], ['THE', 'the', 3], ['LAZY', 'lazy', 4], ['DOG', 'dog', 3]] (the list containing a list for every word of list words, where each list contains the word in uppercase and lowercase and the length of the word.)\n",
    "e) ['The', 'quick', 'brown', 'fox', 'jumps', 'over', 'the', 'lazy', 'dog'] (the list of words in list words containing 4 or more \n",
    "characters."
   ]
  },
  {
   "cell_type": "code",
   "execution_count": 59,
   "id": "ea51696a",
   "metadata": {},
   "outputs": [
    {
     "name": "stdout",
     "output_type": "stream",
     "text": [
      "List of words presented in Upper case:\n",
      "['THE', 'QUICK', 'BROWN', 'FOX', 'JUMP', 'OVER', 'THE', 'LAZY', 'DOG'] \n",
      "\n",
      "List of words presented in Lower case:\n",
      "['the', 'quick', 'brown', 'fox', 'jump', 'over', 'the', 'lazy', 'dog'] \n",
      "\n",
      "Length of each words in the list:\n",
      "[3, 5, 5, 3, 4, 4, 3, 4, 3] \n",
      "\n",
      "The list conataining a list for every word of list words, where it gives Uppercase, Lowercase and Length of each words:\n",
      "[['THE', 'the', 3], ['QUICK', 'quick', 5], ['BROWN', 'brown', 5], ['FOX', 'fox', 3], ['JUMP', 'jump', 4], ['OVER', 'over', 4], ['THE', 'the', 3], ['LAZY', 'lazy', 4], ['DOG', 'dog', 3]] \n",
      "\n",
      "Words containing 4 or more characters:\n",
      "['Quick', 'Brown', 'Jump', 'Over', 'Lazy']\n"
     ]
    }
   ],
   "source": [
    "words = ['The', 'quick', 'brown', 'fox', 'jump', 'over', 'the', 'lazy', 'dog']\n",
    "print('List of words presented in Upper case:')\n",
    "print([L.upper() for L in words], \"\\n\")\n",
    "\n",
    "print('List of words presented in Lower case:')\n",
    "print([L.lower() for L in words], \"\\n\")\n",
    "\n",
    "print('Length of each words in the list:')\n",
    "print([len(L) for L in words], '\\n')\n",
    "\n",
    "print('The list conataining a list for every word of list words, where it gives Uppercase, Lowercase and Length of each words:')\n",
    "print([[L.upper(), L.lower(), len(L)] for L in words], '\\n')\n",
    "\n",
    "print('Words containing 4 or more characters:')\n",
    "print([L.capitalize() for L in words if len(L)>=4]) \n"
   ]
  }
 ],
 "metadata": {
  "kernelspec": {
   "display_name": "Python 3 (ipykernel)",
   "language": "python",
   "name": "python3"
  },
  "language_info": {
   "codemirror_mode": {
    "name": "ipython",
    "version": 3
   },
   "file_extension": ".py",
   "mimetype": "text/x-python",
   "name": "python",
   "nbconvert_exporter": "python",
   "pygments_lexer": "ipython3",
   "version": "3.9.7"
  }
 },
 "nbformat": 4,
 "nbformat_minor": 5
}
